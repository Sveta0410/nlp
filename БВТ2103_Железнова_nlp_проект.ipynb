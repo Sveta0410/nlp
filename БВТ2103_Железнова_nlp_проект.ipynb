{
  "nbformat": 4,
  "nbformat_minor": 0,
  "metadata": {
    "colab": {
      "provenance": []
    },
    "kernelspec": {
      "name": "python3",
      "display_name": "Python 3"
    },
    "language_info": {
      "name": "python"
    }
  },
  "cells": [
    {
      "cell_type": "markdown",
      "source": [
        "#Практика 2023\n",
        "\n",
        "###Выполнила студентка группы БВТ2103 Железнова Светлана Ивановна\n"
      ],
      "metadata": {
        "id": "5XriNq82qtb-"
      }
    },
    {
      "cell_type": "markdown",
      "source": [
        "####Цель работы:\n",
        "- создать программу, которая проверяет, которая по чек-листу проверяет, всё ли сказал работник колл-центра\n",
        "\n",
        "\n"
      ],
      "metadata": {
        "id": "vTQQClmLrK6Q"
      }
    },
    {
      "cell_type": "markdown",
      "source": [
        "####Задачи:\n",
        "- изучить библиотеки, предназначенные для обработки естественного языка(nlp)\n",
        "- проверить, все ли пункты чек-листа упомянул работник\n",
        "- составить отчёты по конкретному разговору, по работе отдельного сотрудника и всего отдела за день"
      ],
      "metadata": {
        "id": "p05ZCqucuf0X"
      }
    },
    {
      "cell_type": "markdown",
      "source": [
        "####Чек-лист:\n",
        "\n",
        "1) Приветстие (В нашей компании сотрудники могут приветствовать клиетнов только словами \"Здравствуйте или \"Добрый день\". Другие фразы неприемлемы)\n",
        "\n",
        "2) Представление (Сотрудник должен представиться, назвать своё имя)\n",
        "\n",
        "3) Упоминание ключевого слова (Сотруднику необходимо предложить клиенту приобрести автомобиль)"
      ],
      "metadata": {
        "id": "6pn0Z5F9sKH3"
      }
    },
    {
      "cell_type": "markdown",
      "source": [
        "Для проверки первого пункта чек-листа я проверяю, есть ли в исходном тексте слова \"Здравствуйте или \"Добрый день\".\n",
        "\n",
        "Для проверки второго пункта используется распознавание именованных сущностей (DeepPavlov). Если в исходном тексте есть имя ('PER'), сотрудник представился.\n",
        "\n",
        "Для проерки третьего пункта используются библиотеки Spacy и Gensim. Spacy используется для добавления части речи к слову, а библиотека Gensim необходима для оценки схожести слов."
      ],
      "metadata": {
        "id": "niJXCojyspWz"
      }
    },
    {
      "cell_type": "markdown",
      "source": [
        "####Отчёты\n",
        "\n",
        "В отчёт по конкретному разговору включается:\n",
        "- Информация о том, упомяул ли работник конкретны пункт чек-листа\n",
        "- Качество работы сотрудника\n",
        "\n",
        "В отчёт по работе сотрудника за день включается:\n",
        "- Информация о том, сколько ошибок сотрудник сделал по каждому пункту чек-листа\n",
        "- Гистограмма, содержащаю информацию о числе ошибок сотрудника\n",
        "- Качество работы сотрудника\n",
        "\n",
        "В отчёт по работе отдела (нескольких сотрудников) за день включается:\n",
        "- Гистограмма, содержащаю информацию о качестве работы каждого сотрудника\n"
      ],
      "metadata": {
        "id": "ITxZRy-culYf"
      }
    },
    {
      "cell_type": "markdown",
      "source": [
        "#### Директория\n",
        "\n",
        "Для корректной работы программы директория с файлами должна выглядеть следующим образом:\n",
        "\n",
        "\n",
        "> дата (например 07.07.2023)\n",
        ">> сотрудник_1\n",
        "\n",
        ">>> запись_разговора_1.mp3\n",
        "\n",
        ">>> запись_разговора_2.mp3\n",
        "\n",
        ">>> ...\n",
        "\n",
        ">> сотрудник_2\n",
        "\n",
        ">>> запись_разговора_3.mp3\n",
        "\n",
        ">>> ...\n",
        "\n",
        ">> ..."
      ],
      "metadata": {
        "id": "VifQcQa-v3WW"
      }
    },
    {
      "cell_type": "markdown",
      "source": [
        "####Отчёты\n",
        "\n",
        "В результате выполнения программы будут созданы отчёты, расположение которых представлено ниже:\n",
        "\n",
        "> дата (например 07.07.2023)\n",
        ">> сотрудник_1\n",
        "\n",
        ">>> отчёты_по_разговорам\n",
        "\n",
        ">>>> **отчёт_по_разговору_1.docx**\n",
        "\n",
        ">>>> **отчёт_по_разговору_2.docx**\n",
        "\n",
        ">>> запись_разговора_1.mp3\n",
        "\n",
        ">>> запись_разговора_2.mp3\n",
        "\n",
        ">>>**отчёт_по_работе_сотрудника.docx**\n",
        "\n",
        ">> сотрудник_2\n",
        "\n",
        ">>> отчёты_по_разговорам\n",
        "\n",
        ">>>> **отчёт_по_разговору_3.docx**\n",
        "\n",
        ">>> запись_разговора_3.mp3\n",
        "\n",
        ">>>**отчёт_по_работе_сотрудника.docx**\n",
        "\n",
        ">> **отчёт по работе отдела.docx**"
      ],
      "metadata": {
        "id": "VQvRcJtBxaXN"
      }
    },
    {
      "cell_type": "markdown",
      "source": [
        "#####Сожержание отчётов\n",
        "\n",
        "В отчёт по конкретному разговору включается:\n",
        "- Информация о том, упомяул ли работник конкретны пункт чек-листа\n",
        "- Качество работы сотрудника\n",
        "\n",
        "В отчёт по работе сотрудника за день включается:\n",
        "- Информация о том, сколько ошибок сотрудник сделал по каждому пункту чек-листа\n",
        "- Гистограмма, содержащаю информацию о числе ошибок сотрудника\n",
        "- Качество работы сотрудника\n",
        "\n",
        "В отчёт по работе отдела (нескольких сотрудников) за день включается:\n",
        "- Гистограмма, содержащаю информацию о качестве работы каждого сотрудника\n"
      ],
      "metadata": {
        "id": "pzrg1wq6xqbT"
      }
    },
    {
      "cell_type": "markdown",
      "source": [
        "####Ход работы"
      ],
      "metadata": {
        "id": "9qmzxrD3vVji"
      }
    },
    {
      "cell_type": "code",
      "source": [
        "!pip install -r requirements.txt\n",
        "\n",
        "!python -m deeppavlov install ner_collection3_bert\n",
        "!spacy-model install ru_core_news_sm"
      ],
      "metadata": {
        "id": "06MwUQhG_tmI"
      },
      "execution_count": null,
      "outputs": []
    },
    {
      "cell_type": "code",
      "source": [
        "import whisper # для преобразования аудио в текст\n",
        "\n",
        "# для распознавания именованных сущностей\n",
        "from deeppavlov import configs\n",
        "from deeppavlov import build_model\n",
        "\n",
        "# для добавления части речи к слову\n",
        "import spacy\n",
        "\n",
        "# для оценки схожести слов\n",
        "from gensim.models import Word2Vec\n",
        "import gensim.downloader as api\n",
        "\n",
        "import os # для работы с папками\n",
        "import matplotlib.pyplot as plt # для гистограмм\n",
        "from docx import Document # для создания отчётов в формате .docx"
      ],
      "metadata": {
        "id": "yp7CC0tY_JM5"
      },
      "execution_count": 2,
      "outputs": []
    },
    {
      "cell_type": "code",
      "source": [
        "whisper = whisper.load_model('medium')\n",
        "ner = build_model('ner_collection3_bert', download=True, install=True)\n",
        "nlp = spacy.load(\"ru_core_news_sm\")\n",
        "word2vec_ru = api.load(\"word2vec-ruscorpora-300\")\n",
        "\n",
        "models = {'whisper_model': whisper, 'ner_model': ner,\n",
        "          'nlp': nlp, 'word2vec_model_ru': word2vec_ru}"
      ],
      "metadata": {
        "id": "EFLgZxM3oPaJ"
      },
      "execution_count": null,
      "outputs": []
    },
    {
      "cell_type": "code",
      "source": [
        "# цвета для гистограмм\n",
        "COLORS = ['#ffb399','#ffcc99','#ffe699',\n",
        "          '#ffff99','#e6ff99','#ccff99',\n",
        "          '#b3ff99','#99ff99','#99ffb3',\n",
        "          '#99ffcc','#99ffe6','#99ffff',\n",
        "          '#99e6ff','#99ccff','#99b3ff',\n",
        "          '#9999ff','#b399ff','#cc99ff',\n",
        "          '#e699ff','#ff99ff','#ff99e6',\n",
        "          '#ff99cc','#ff99b3','#ff9999'\n",
        "]"
      ],
      "metadata": {
        "id": "mG842Ao6hP3w"
      },
      "execution_count": 3,
      "outputs": []
    },
    {
      "cell_type": "markdown",
      "source": [
        "Функция check_audio необходима для проверки аудиозаписи (все ли пункты из чек-листа упомянуты)"
      ],
      "metadata": {
        "id": "WnFpJVn2pFx9"
      }
    },
    {
      "cell_type": "code",
      "source": [
        "def check_audio(file_name, models_to_use):\n",
        "    whisper_model = models_to_use['whisper_model']\n",
        "    ner_model = models_to_use['ner_model']\n",
        "    nlp_model = models_to_use['nlp']\n",
        "    word2vec_model_ru = models_to_use['word2vec_model_ru']\n",
        "\n",
        "    # переводим аудио в текст\n",
        "    res_whisper = whisper_model.transcribe(file_name)\n",
        "    result_whisper = res_whisper['text'].replace('.', '')\n",
        "    result_whisper = result_whisper.replace(', ', ' ')\n",
        "    result_whisper = result_whisper.strip()\n",
        "\n",
        "    # проверяем приветствие\n",
        "    result_whisper_lower = result_whisper.lower()\n",
        "    if ('здравствуйте' in result_whisper_lower or\n",
        "        'добрый день' in result_whisper_lower):\n",
        "        greeting = True\n",
        "    else:\n",
        "        greeting = False\n",
        "\n",
        "    # проверяем, представился ли сотрудник\n",
        "    ner_text = ner_model([result_whisper])[1][0]\n",
        "    introduction = False\n",
        "    for word in ner_text:\n",
        "        if 'PER' in word:\n",
        "            introduction = True\n",
        "            break\n",
        "\n",
        "    # схожие по смыслу слова\n",
        "    # добавляем части речи\n",
        "    doc = nlp(result_whisper)\n",
        "    new_text = []\n",
        "    for token in doc:\n",
        "        new_text.append(token.text + '_' + token.pos_)\n",
        "    # сравниваем по смыслу\n",
        "    count = 0\n",
        "    car_mentioned = False\n",
        "    for word in new_text:\n",
        "        if word in word2vec_model_ru:\n",
        "            if word2vec_model_ru.similarity(word, 'машина_NOUN') >= 0.6:\n",
        "                car_mentioned = True\n",
        "                break\n",
        "\n",
        "    audio_results = [greeting, introduction, car_mentioned]\n",
        "\n",
        "    # создаём отчёт\n",
        "    make_report_call(file_name, audio_results)\n",
        "\n",
        "    return res_whisper['text'], audio_results"
      ],
      "metadata": {
        "id": "igOLBNlHIM5z"
      },
      "execution_count": 5,
      "outputs": []
    },
    {
      "cell_type": "markdown",
      "source": [
        "Функция make_report_call необходима для создания отчёта по отдельному разговору"
      ],
      "metadata": {
        "id": "O5MQRYRip3RI"
      }
    },
    {
      "cell_type": "code",
      "source": [
        "def make_report_call(file, res):\n",
        "\n",
        "        if '/' in file:\n",
        "            # убираем дату и сотрудника из названия документа\n",
        "            border = file.rfind('/')\n",
        "            f_name = file[border + 1:-4] + '_call_report'\n",
        "            file_path = file[:border] + '/' + 'call_reports/'\n",
        "        else:\n",
        "            f_name = file[:-4] + '_call_report'\n",
        "            file_path = 'call_reports/'\n",
        "\n",
        "        if not os.path.isdir(file_path):\n",
        "              os.mkdir(file_path)\n",
        "\n",
        "        file_name = file_path + f_name\n",
        "        document = Document()\n",
        "        document.add_heading('Отчёт по разговору ' +  f_name)\n",
        "        count_mistakes = 0\n",
        "\n",
        "        if res[0]:\n",
        "              greet = '✅'\n",
        "        else:\n",
        "             greet = '❌'\n",
        "             count_mistakes += 1\n",
        "        document.add_paragraph(greet + ' Приветствие')\n",
        "\n",
        "        if res[1]:\n",
        "            intro = '✅'\n",
        "        else:\n",
        "            intro = '❌'\n",
        "            count_mistakes += 1\n",
        "        document.add_paragraph(intro + ' Представление')\n",
        "\n",
        "        if res[2]:\n",
        "            main_word = '✅'\n",
        "        else:\n",
        "            main_word = '❌'\n",
        "            count_mistakes += 1\n",
        "        document.add_paragraph(main_word + ' Упоминание ключевого слова(машина)')\n",
        "        quality = (len(res) - count_mistakes)/len(res)\n",
        "        document.add_paragraph('Качество работы струдника - '\n",
        "                               + str(round(quality, 2)))\n",
        "\n",
        "        document.save(file_name + '.docx')\n",
        "        # print('ok')"
      ],
      "metadata": {
        "id": "TS-Pplkdj6hi"
      },
      "execution_count": 6,
      "outputs": []
    },
    {
      "cell_type": "markdown",
      "source": [
        "Функция check_employee необходима для проверки работы сотрудника за день"
      ],
      "metadata": {
        "id": "AHW9o1WFqIXu"
      }
    },
    {
      "cell_type": "code",
      "source": [
        "def check_employee(file_dir, models_to_use):\n",
        "    employee_res = []\n",
        "    for f in os.scandir(file_dir):\n",
        "        if f.is_file() and f.path.split('.')[-1].lower() == 'mp3':\n",
        "            employee_res.append(check_audio(f.path, models_to_use)[1])\n",
        "\n",
        "    greet_mistakes = 0\n",
        "    intro_mistakes = 0\n",
        "    main_word_mistakes = 0\n",
        "\n",
        "    for call_res in employee_res:\n",
        "        if not call_res[0]:\n",
        "            greet_mistakes += 1\n",
        "        if not call_res[1]:\n",
        "            intro_mistakes += 1\n",
        "        if not call_res[2]:\n",
        "            main_word_mistakes += 1\n",
        "\n",
        "    mistakes_arr = [greet_mistakes, intro_mistakes, main_word_mistakes]\n",
        "    all_mistakes = greet_mistakes + intro_mistakes + main_word_mistakes\n",
        "    all_items = len(employee_res)*len(employee_res[0])\n",
        "\n",
        "    quality = ((all_items - all_mistakes)/all_items)\n",
        "\n",
        "    make_report_employee(file_dir, mistakes_arr, quality)\n",
        "\n",
        "    return mistakes_arr, quality"
      ],
      "metadata": {
        "id": "kvsGW1MPqEgs"
      },
      "execution_count": 7,
      "outputs": []
    },
    {
      "cell_type": "markdown",
      "source": [
        "Функция make_report_employee необходима для создания отчёта по работе сотрудника за день"
      ],
      "metadata": {
        "id": "z8YCKXylqOtf"
      }
    },
    {
      "cell_type": "code",
      "source": [
        "def make_report_employee(path, mistakes, work_quality):\n",
        "        if '/' in path:\n",
        "            # убираем дату из названия документа\n",
        "            border = path.rfind('/')\n",
        "            file_name = path + '/' + path[border:] + '_report'\n",
        "            employee_name = path[11:]\n",
        "        else:\n",
        "            file_name = path + '/' + path + '_report'\n",
        "            employee_name = path\n",
        "        document = Document()\n",
        "        document.add_heading('Отчёт по работе сотрудника ' +\n",
        "                             employee_name + ' за день')\n",
        "        document.add_paragraph()\n",
        "\n",
        "        document.add_paragraph(str(mistakes[0]) +\n",
        "                               ' - кол-во ошибок в приветствии')\n",
        "        document.add_paragraph(str(mistakes[1]) +\n",
        "                               ' - кол-во ошибок в представлении')\n",
        "        document.add_paragraph(str(mistakes[2]) +\n",
        "                               ' - кол-во ошибок в упоминании ключевого слова')\n",
        "\n",
        "        document.add_paragraph()\n",
        "\n",
        "        mistakes_names = ['Приветствие', 'Представление', 'Ключевое слово']\n",
        "        # создаём гистограмму(горизонтальную)\n",
        "        plt.bar(mistakes_names, mistakes, color = COLORS)\n",
        "        # отображаем сетку\n",
        "        plt.grid(linewidth = \"0.5\", linestyle = \":\")\n",
        "        # подписываем оси\n",
        "        plt.xlabel('Ошибка')\n",
        "        plt.ylabel('Число ошибок сотрудника, шт')\n",
        "        # добавляем заголовок\n",
        "        plt.title('Ошибки сотрудника')\n",
        "        plt.savefig('saved_figure.png')\n",
        "        plt.close()\n",
        "        document.add_picture('./saved_figure.png')\n",
        "        os.remove('saved_figure.png')\n",
        "\n",
        "        document.add_paragraph('Качество работы струдника - '\n",
        "                               + str(round(work_quality, 2)))\n",
        "\n",
        "        document.save(file_name + '.docx')\n",
        "        # print('ok 1')"
      ],
      "metadata": {
        "id": "wCV2PJ6mOtP4"
      },
      "execution_count": 8,
      "outputs": []
    },
    {
      "cell_type": "markdown",
      "source": [
        "Функция check_date необходима для проверки работы отдела (нескольких сотрудников) за день"
      ],
      "metadata": {
        "id": "9fm6ddStqX_b"
      }
    },
    {
      "cell_type": "code",
      "source": [
        "def check_date(date_dir, models_to_use):\n",
        "    qualities = []\n",
        "    all_employees = []\n",
        "    for dir in os.scandir(date_dir):\n",
        "        if dir.is_dir() and ('.ipynb_checkpoints' not in str(dir)):\n",
        "            qualities.append(check_employee(dir.path, models_to_use)[1])\n",
        "            all_employees.append(str(dir)[11:-2])\n",
        "\n",
        "    make_report_date(date_dir, qualities, all_employees)"
      ],
      "metadata": {
        "id": "92EkE-Z2aqLb"
      },
      "execution_count": 9,
      "outputs": []
    },
    {
      "cell_type": "markdown",
      "source": [
        "Функция make_report_date необходима для проверки создания отчёта по работе отела за день"
      ],
      "metadata": {
        "id": "eEpSEMlJqfVr"
      }
    },
    {
      "cell_type": "code",
      "source": [
        "def make_report_date(date_dir, qualities, employees):\n",
        "        # file_name = date_dir + '/' + 'reports/' + date_dir + '_report'\n",
        "        file_name = date_dir + '/' + date_dir + '_report'\n",
        "        document = Document()\n",
        "        document.add_heading('Отчёт по работе отдела за ' +  date_dir)\n",
        "        document.add_paragraph()\n",
        "\n",
        "        # создаём гистограмму(горизонтальную)\n",
        "        plt.bar(employees, qualities, color = COLORS)\n",
        "        # отображаем сетку\n",
        "        plt.grid(linewidth = \"0.5\", linestyle = \":\")\n",
        "        # подписываем оси\n",
        "        plt.xlabel('Сотрудник')\n",
        "        plt.ylabel('Качество работы сотрудника')\n",
        "\n",
        "        # добавляем заголовок\n",
        "        plt.title('Качество работы сотрудников')\n",
        "        plt.savefig('saved_figure.png')\n",
        "        plt.close()\n",
        "\n",
        "        document.add_picture('./saved_figure.png')\n",
        "        os.remove('saved_figure.png')\n",
        "\n",
        "        document.add_paragraph()\n",
        "\n",
        "        document.save(file_name + '.docx')\n",
        "        # print('ok 2')"
      ],
      "metadata": {
        "id": "abld8059aqN2"
      },
      "execution_count": 10,
      "outputs": []
    },
    {
      "cell_type": "markdown",
      "source": [
        "####Запуск программы"
      ],
      "metadata": {
        "id": "90nirNYCvcai"
      }
    },
    {
      "cell_type": "code",
      "source": [
        "check_date('07.07.2023', models)"
      ],
      "metadata": {
        "colab": {
          "base_uri": "https://localhost:8080/"
        },
        "id": "utIsYtDpE742",
        "outputId": "7cd0f5c5-36c6-4f5a-c385-c6c43ecab8f3"
      },
      "execution_count": 11,
      "outputs": [
        {
          "output_type": "stream",
          "name": "stderr",
          "text": [
            "/usr/local/lib/python3.10/dist-packages/whisper/transcribe.py:114: UserWarning: FP16 is not supported on CPU; using FP32 instead\n",
            "  warnings.warn(\"FP16 is not supported on CPU; using FP32 instead\")\n",
            "/usr/local/lib/python3.10/dist-packages/whisper/transcribe.py:114: UserWarning: FP16 is not supported on CPU; using FP32 instead\n",
            "  warnings.warn(\"FP16 is not supported on CPU; using FP32 instead\")\n",
            "/usr/local/lib/python3.10/dist-packages/whisper/transcribe.py:114: UserWarning: FP16 is not supported on CPU; using FP32 instead\n",
            "  warnings.warn(\"FP16 is not supported on CPU; using FP32 instead\")\n",
            "/usr/local/lib/python3.10/dist-packages/whisper/transcribe.py:114: UserWarning: FP16 is not supported on CPU; using FP32 instead\n",
            "  warnings.warn(\"FP16 is not supported on CPU; using FP32 instead\")\n",
            "/usr/local/lib/python3.10/dist-packages/whisper/transcribe.py:114: UserWarning: FP16 is not supported on CPU; using FP32 instead\n",
            "  warnings.warn(\"FP16 is not supported on CPU; using FP32 instead\")\n",
            "/usr/local/lib/python3.10/dist-packages/whisper/transcribe.py:114: UserWarning: FP16 is not supported on CPU; using FP32 instead\n",
            "  warnings.warn(\"FP16 is not supported on CPU; using FP32 instead\")\n"
          ]
        }
      ]
    },
    {
      "cell_type": "code",
      "source": [],
      "metadata": {
        "id": "6jlbGgzJj6xe"
      },
      "execution_count": null,
      "outputs": []
    }
  ]
}